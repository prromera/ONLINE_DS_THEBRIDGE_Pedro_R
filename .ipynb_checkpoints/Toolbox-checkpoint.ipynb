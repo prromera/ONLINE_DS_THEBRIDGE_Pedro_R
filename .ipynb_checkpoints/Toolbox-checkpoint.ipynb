{
 "cells": [
  {
   "cell_type": "markdown",
   "id": "4f1106eb-af47-435d-acf8-f1cffeec9e56",
   "metadata": {},
   "source": [
    "# TOOLBOX #"
   ]
  },
  {
   "cell_type": "markdown",
   "id": "f8e92afc-0cf5-4260-8ab7-686ac3df1127",
   "metadata": {},
   "source": [
    "# Teoria #\n"
   ]
  },
  {
   "cell_type": "markdown",
   "id": "44c2471a-f587-47c3-9ae9-3873c9559764",
   "metadata": {},
   "source": [
    "## Utilidades ##"
   ]
  },
  {
   "cell_type": "markdown",
   "id": "df57e395-515e-4a85-867e-21357428872e",
   "metadata": {},
   "source": [
    "## Cosas curiosas ##"
   ]
  },
  {
   "cell_type": "markdown",
   "id": "2a8a15f6-ad7f-495a-9843-693f1760f696",
   "metadata": {},
   "source": [
    "## Preguntas pendientes ##"
   ]
  },
  {
   "cell_type": "code",
   "execution_count": null,
   "id": "40ba6043-8533-401a-9686-0edce885495a",
   "metadata": {},
   "outputs": [],
   "source": []
  }
 ],
 "metadata": {
  "kernelspec": {
   "display_name": "Python 3 (ipykernel)",
   "language": "python",
   "name": "python3"
  },
  "language_info": {
   "codemirror_mode": {
    "name": "ipython",
    "version": 3
   },
   "file_extension": ".py",
   "mimetype": "text/x-python",
   "name": "python",
   "nbconvert_exporter": "python",
   "pygments_lexer": "ipython3",
   "version": "3.12.0"
  }
 },
 "nbformat": 4,
 "nbformat_minor": 5
}
