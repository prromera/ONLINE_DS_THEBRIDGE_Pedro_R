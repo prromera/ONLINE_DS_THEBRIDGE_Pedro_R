{
 "cells": [
  {
   "cell_type": "code",
   "execution_count": 23,
   "id": "f235c743-6e60-488a-ae17-bd3767028def",
   "metadata": {},
   "outputs": [
    {
     "name": "stdout",
     "output_type": "stream",
     "text": [
      "[8, 7, 6, 5, 4, 3, 2, 1]\n",
      "[7, 6, 5, 4, 3, 2, 1]\n",
      "[6, 5, 4, 3, 2, 1]\n",
      "[5, 4, 3, 2, 1]\n",
      "[4, 3, 2, 1]\n",
      "[3, 2, 1]\n",
      "[2, 1]\n",
      "[1]\n",
      "hola\n"
     ]
    }
   ],
   "source": [
    "def piramide(altura):\n",
    "    piso = []\n",
    "   \n",
    "    while altura > 0:      \n",
    "        piso.append(altura)\n",
    "        if altura == 1:\n",
    "            break           \n",
    "        altura = altura - 1\n",
    "    \n",
    "    for i in piso.copy():\n",
    "        print(piso)\n",
    "        piso.pop(0)\n",
    "        \n",
    "piramide (8)\n",
    "print (\"hola\")"
   ]
  },
  {
   "cell_type": "code",
   "execution_count": 14,
   "id": "6061a1dd-938d-4e71-a028-f5055fb0af27",
   "metadata": {},
   "outputs": [
    {
     "name": "stdout",
     "output_type": "stream",
     "text": [
      "5\n",
      "5\n",
      "4\n",
      "3\n",
      "2\n",
      "1\n"
     ]
    }
   ],
   "source": [
    "def piramide(altura):\n",
    "    piso = []\n",
    "    print (altura)\n",
    "    while altura > 0:\n",
    "        print (altura)\n",
    "        for i in range(5, 0):\n",
    "            piso.append(i)\n",
    "            if i == 1:\n",
    "                print (piso)\n",
    "                \n",
    "        altura = altura - 1\n",
    "\n",
    "piramide (5)"
   ]
  },
  {
   "cell_type": "code",
   "execution_count": null,
   "id": "cd6ce347-f9e2-44c5-aec0-b17388e2d924",
   "metadata": {},
   "outputs": [],
   "source": []
  }
 ],
 "metadata": {
  "kernelspec": {
   "display_name": "Python 3 (ipykernel)",
   "language": "python",
   "name": "python3"
  },
  "language_info": {
   "codemirror_mode": {
    "name": "ipython",
    "version": 3
   },
   "file_extension": ".py",
   "mimetype": "text/x-python",
   "name": "python",
   "nbconvert_exporter": "python",
   "pygments_lexer": "ipython3",
   "version": "3.12.0"
  }
 },
 "nbformat": 4,
 "nbformat_minor": 5
}
