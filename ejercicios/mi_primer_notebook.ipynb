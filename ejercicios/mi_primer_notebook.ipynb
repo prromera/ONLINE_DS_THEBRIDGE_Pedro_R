{
 "cells": [
  {
   "cell_type": "code",
   "execution_count": 1,
   "id": "205930fa-a450-46e4-a4a9-8c8374a08284",
   "metadata": {},
   "outputs": [
    {
     "name": "stdout",
     "output_type": "stream",
     "text": [
      "Hola mundo\n"
     ]
    }
   ],
   "source": [
    "print (\"Hola mundo\")\n"
   ]
  },
  {
   "cell_type": "markdown",
   "id": "c344194e-894d-4970-8aaa-9b8805b4e3ec",
   "metadata": {},
   "source": [
    "Hola Mundo"
   ]
  },
  {
   "cell_type": "markdown",
   "id": "dab008b6-44c4-4398-b2d3-323e8f623870",
   "metadata": {},
   "source": [
    "## Mis primeros pasos con Markdown...\n",
    "\n",
    "...son muy buenos"
   ]
  },
  {
   "cell_type": "markdown",
   "id": "0fa7b5d3-e668-45c7-9ec8-ec52137d5b53",
   "metadata": {},
   "source": [
    "# Cabecera 1\n",
    "## Cabecera 2"
   ]
  },
  {
   "cell_type": "markdown",
   "id": "a7b33480-df96-4c31-ab8d-323ca47a434c",
   "metadata": {},
   "source": [
    "### Cabecera 3\n",
    "#### Cabecera 4\n",
    "##### Cabecera 5\n",
    "###### Cabecera 6\n",
    "####### Cabecera 7"
   ]
  },
  {
   "cell_type": "markdown",
   "id": "a1d69723-424d-4858-951b-5ebc984c3d28",
   "metadata": {},
   "source": [
    "<h1>Header 1</h1>\n",
    "<h2>Header 2</h2>\n",
    "<h3>Header 3</h3>"
   ]
  },
  {
   "cell_type": "markdown",
   "id": "207ad079-0c2d-4ef7-93e4-8360a87e218d",
   "metadata": {},
   "source": [
    "**Texto en negrita**\n",
    "\n",
    "*Texto en cursiva*\n",
    "\n",
    "***Texto en negrita y cursiva***"
   ]
  },
  {
   "cell_type": "markdown",
   "id": "1711459c-f649-40e8-b347-32bed55f7d72",
   "metadata": {},
   "source": [
    ">REcuerda la importancia del conocimiento del negocio y del dominio\n",
    ">>Y utulizar atajos de teclado"
   ]
  },
  {
   "cell_type": "markdown",
   "id": "6e4f5ff3-3fed-4ab3-9aad-7bbcfa3e2223",
   "metadata": {},
   "source": [
    "Este es un parrafo breve.  \n",
    "seguido de otro."
   ]
  },
  {
   "cell_type": "markdown",
   "id": "a31a075b-4542-4fa8-bf48-d9bd6cc6f7ab",
   "metadata": {},
   "source": [
    "1. ordenada 1\n",
    "2. ordenada 2\n",
    "3. ordenada 3"
   ]
  },
  {
   "cell_type": "markdown",
   "id": "48dabed8-b034-4c8f-b081-e41da10d85fd",
   "metadata": {},
   "source": [
    "* desorden 1\n",
    "* desorden 2\n",
    "* desorden 3"
   ]
  },
  {
   "cell_type": "markdown",
   "id": "40509a0e-b8ff-490e-977f-cd775e1173ae",
   "metadata": {},
   "source": [
    "```Python\n",
    "Variable = \"Esto es un string\"\n",
    "```"
   ]
  },
  {
   "cell_type": "markdown",
   "id": "2dd720e2-1762-4666-b108-43ae010df11c",
   "metadata": {},
   "source": [
    "***"
   ]
  },
  {
   "cell_type": "markdown",
   "id": "89aa5297-40d8-4cf2-8ebb-152110d0a724",
   "metadata": {},
   "source": [
    "---"
   ]
  },
  {
   "cell_type": "markdown",
   "id": "310fc721-4f96-4610-8baf-753185d5b5bd",
   "metadata": {},
   "source": [
    "[Pincha aqui para volver a cabecera 1](#Cabecera-1)"
   ]
  },
  {
   "cell_type": "code",
   "execution_count": null,
   "id": "d6b71d99-3a74-4567-b286-9de6c254b122",
   "metadata": {},
   "outputs": [],
   "source": []
  }
 ],
 "metadata": {
  "kernelspec": {
   "display_name": "Python 3 (ipykernel)",
   "language": "python",
   "name": "python3"
  },
  "language_info": {
   "codemirror_mode": {
    "name": "ipython",
    "version": 3
   },
   "file_extension": ".py",
   "mimetype": "text/x-python",
   "name": "python",
   "nbconvert_exporter": "python",
   "pygments_lexer": "ipython3",
   "version": "3.12.0"
  }
 },
 "nbformat": 4,
 "nbformat_minor": 5
}
